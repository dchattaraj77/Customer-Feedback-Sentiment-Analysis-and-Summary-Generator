{
 "cells": [
  {
   "cell_type": "code",
   "execution_count": null,
   "id": "638a0248",
   "metadata": {},
   "outputs": [],
   "source": [
    "# Customer Feedback Sentiment Analysis and Summary Generator"
   ]
  },
  {
   "cell_type": "code",
   "execution_count": null,
   "id": "b95d768e",
   "metadata": {},
   "outputs": [],
   "source": [
    "import openai\n",
    "import os\n",
    "import pandas as pd\n",
    "from dotenv import load_dotenv, find_dotenv\n",
    "\n",
    "# Load the .env file\n",
    "_ = load_dotenv(find_dotenv())\n",
    "\n",
    "# Set up OpenAI API key\n",
    "openai.api_key = os.getenv('OPENAI_API_KEY')"
   ]
  },
  {
   "cell_type": "code",
   "execution_count": null,
   "id": "37f897e6",
   "metadata": {},
   "outputs": [],
   "source": [
    "# Helper function to get the completion from the model\n",
    "def get_completion(prompt, model=\"gpt-3.5-turbo\"):\n",
    "    messages = [{\"role\": \"user\", \"content\": prompt}]\n",
    "    response = openai.ChatCompletion.create(\n",
    "        model=model,\n",
    "        messages=messages,\n",
    "        temperature=0,\n",
    "    )\n",
    "    return response.choices[0].message[\"content\"]"
   ]
  },
  {
   "cell_type": "code",
   "execution_count": null,
   "id": "a615e6ac",
   "metadata": {},
   "outputs": [],
   "source": [
    "# Function to analyze a single review\n",
    "def analyze_review(review):\n",
    "    summary_prompt = f\"\"\"\n",
    "    What is the summary of the following product review in 2 short sentences?\n",
    "    Review text: '{review}'\n",
    "    \"\"\"\n",
    "    \n",
    "    sentiment_prompt = f\"\"\"\n",
    "    Determine the sentiment of the following product review for business and marketing insights. Respond with 'positive' or 'negative'.\n",
    "    Review text: '{review}'\n",
    "    \"\"\"\n",
    "    \n",
    "    summary = get_completion(summary_prompt).strip()\n",
    "    sentiment = get_completion(sentiment_prompt).strip().capitalize()  # Ensure proper capitalization\n",
    "    \n",
    "    return summary, sentiment"
   ]
  },
  {
   "cell_type": "code",
   "execution_count": null,
   "id": "f2d2b2aa",
   "metadata": {},
   "outputs": [],
   "source": [
    "# Load the input CSV file\n",
    "input_csv_path = 'customer_feedback.csv'\n",
    "df = pd.read_csv(input_csv_path)"
   ]
  },
  {
   "cell_type": "code",
   "execution_count": null,
   "id": "27304b83",
   "metadata": {},
   "outputs": [],
   "source": [
    "# Prepare lists to hold the summaries and sentiments\n",
    "summaries = []\n",
    "sentiments = []"
   ]
  },
  {
   "cell_type": "code",
   "execution_count": null,
   "id": "8e90cfa4",
   "metadata": {},
   "outputs": [],
   "source": [
    "# Iterate over each review in the CSV\n",
    "for review in df['Review']:\n",
    "    summary, sentiment = analyze_review(review)\n",
    "    summaries.append(summary)\n",
    "    sentiments.append(sentiment)"
   ]
  },
  {
   "cell_type": "code",
   "execution_count": null,
   "id": "3116c6ec",
   "metadata": {},
   "outputs": [],
   "source": [
    "# Add the summaries and sentiments to the DataFrame\n",
    "df['Summary'] = summaries\n",
    "df['Sentiment'] = sentiments"
   ]
  },
  {
   "cell_type": "code",
   "execution_count": null,
   "id": "23a4a364",
   "metadata": {},
   "outputs": [],
   "source": [
    "# Save the updated DataFrame to a new CSV file\n",
    "output_csv_path = 'customer_feedback_processed.csv'\n",
    "df.to_csv(output_csv_path, index=False)"
   ]
  },
  {
   "cell_type": "code",
   "execution_count": null,
   "id": "ea02a29c",
   "metadata": {},
   "outputs": [],
   "source": [
    "# Display the DataFrame to verify\n",
    "df.head()"
   ]
  }
 ],
 "metadata": {
  "kernelspec": {
   "display_name": "Python 3 (ipykernel)",
   "language": "python",
   "name": "python3"
  },
  "language_info": {
   "codemirror_mode": {
    "name": "ipython",
    "version": 3
   },
   "file_extension": ".py",
   "mimetype": "text/x-python",
   "name": "python",
   "nbconvert_exporter": "python",
   "pygments_lexer": "ipython3",
   "version": "3.10.9"
  }
 },
 "nbformat": 4,
 "nbformat_minor": 5
}
